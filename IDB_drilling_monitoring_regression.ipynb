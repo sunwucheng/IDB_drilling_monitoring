{
 "cells": [
  {
   "cell_type": "markdown",
   "metadata": {
    "id": "mA_-eAkuEnLC"
   },
   "source": [
    "# IDB_drilling_monitoring"
   ]
  },
  {
   "cell_type": "markdown",
   "metadata": {
    "id": "G6Dqfh0oC9d7"
   },
   "source": [
    "## Import packages"
   ]
  },
  {
   "cell_type": "code",
   "execution_count": 1,
   "metadata": {
    "id": "8KJudV78mY5m",
    "scrolled": true
   },
   "outputs": [
    {
     "name": "stderr",
     "output_type": "stream",
     "text": [
      "2023-11-16 16:16:21.293633: I tensorflow/core/util/util.cc:169] oneDNN custom operations are on. You may see slightly different numerical results due to floating-point round-off errors from different computation orders. To turn them off, set the environment variable `TF_ENABLE_ONEDNN_OPTS=0`.\n"
     ]
    },
    {
     "name": "stdout",
     "output_type": "stream",
     "text": [
      "Thu Nov 16 16:16:23 2023       \n",
      "+-----------------------------------------------------------------------------+\n",
      "| NVIDIA-SMI 525.105.17   Driver Version: 525.105.17   CUDA Version: 12.0     |\n",
      "|-------------------------------+----------------------+----------------------+\n",
      "| GPU  Name        Persistence-M| Bus-Id        Disp.A | Volatile Uncorr. ECC |\n",
      "| Fan  Temp  Perf  Pwr:Usage/Cap|         Memory-Usage | GPU-Util  Compute M. |\n",
      "|                               |                      |               MIG M. |\n",
      "|===============================+======================+======================|\n",
      "|   0  NVIDIA GeForce ...  On   | 00000000:98:00.0 Off |                  Off |\n",
      "| 30%   29C    P8    18W / 450W |      2MiB / 24564MiB |      0%      Default |\n",
      "|                               |                      |                  N/A |\n",
      "+-------------------------------+----------------------+----------------------+\n",
      "                                                                               \n",
      "+-----------------------------------------------------------------------------+\n",
      "| Processes:                                                                  |\n",
      "|  GPU   GI   CI        PID   Type   Process name                  GPU Memory |\n",
      "|        ID   ID                                                   Usage      |\n",
      "|=============================================================================|\n",
      "|  No running processes found                                                 |\n",
      "+-----------------------------------------------------------------------------+\n"
     ]
    }
   ],
   "source": [
    "import matplotlib.pyplot as plt\n",
    "import numpy as np\n",
    "import os\n",
    "import pandas as pd\n",
    "import tensorflow as tf\n",
    "\n",
    "from sklearn.model_selection import train_test_split\n",
    "from sklearn.metrics import r2_score, mean_squared_error, mean_absolute_error\n",
    "\n",
    "np.random.seed(42)\n",
    "\n",
    "!nvidia-smi\n",
    "HOST_path = \"/root/autodl-tmp\"\n",
    "\n",
    "SAVE_path = os.path.join(HOST_path, \"IDB_drilling_monitoring/regression\")\n",
    "\n",
    "if not os.path.exists(SAVE_path):\n",
    "    os.makedirs(SAVE_path)"
   ]
  },
  {
   "cell_type": "markdown",
   "metadata": {
    "id": "N4rlRDFk7mas"
   },
   "source": [
    "## Load signal data"
   ]
  },
  {
   "cell_type": "code",
   "execution_count": 2,
   "metadata": {
    "id": "Ax7US8NWaZT8"
   },
   "outputs": [
    {
     "name": "stdout",
     "output_type": "stream",
     "text": [
      "WARNING *** OLE2 inconsistency: SSCS size is 0 but SSAT size is non-zero\n",
      "<class 'numpy.ndarray'> (166, 8) 165 s\n",
      "WARNING *** OLE2 inconsistency: SSCS size is 0 but SSAT size is non-zero\n",
      "<class 'numpy.ndarray'> (163, 8) 162 s\n",
      "WARNING *** OLE2 inconsistency: SSCS size is 0 but SSAT size is non-zero\n",
      "<class 'numpy.ndarray'> (171, 8) 170 s\n",
      "WARNING *** OLE2 inconsistency: SSCS size is 0 but SSAT size is non-zero\n",
      "<class 'numpy.ndarray'> (184, 8) 183 s\n",
      "WARNING *** OLE2 inconsistency: SSCS size is 0 but SSAT size is non-zero\n",
      "<class 'numpy.ndarray'> (207, 8) 206 s\n",
      "WARNING *** OLE2 inconsistency: SSCS size is 0 but SSAT size is non-zero\n",
      "<class 'numpy.ndarray'> (201, 8) 200 s\n",
      "WARNING *** OLE2 inconsistency: SSCS size is 0 but SSAT size is non-zero\n",
      "<class 'numpy.ndarray'> (209, 8) 208 s\n",
      "WARNING *** OLE2 inconsistency: SSCS size is 0 but SSAT size is non-zero\n",
      "<class 'numpy.ndarray'> (218, 8) 217 s\n",
      "WARNING *** OLE2 inconsistency: SSCS size is 0 but SSAT size is non-zero\n",
      "<class 'numpy.ndarray'> (260, 8) 259 s\n",
      "WARNING *** OLE2 inconsistency: SSCS size is 0 but SSAT size is non-zero\n",
      "<class 'numpy.ndarray'> (214, 8) 213 s\n",
      "WARNING *** OLE2 inconsistency: SSCS size is 0 but SSAT size is non-zero\n",
      "<class 'numpy.ndarray'> (226, 8) 225 s\n",
      "WARNING *** OLE2 inconsistency: SSCS size is 0 but SSAT size is non-zero\n",
      "<class 'numpy.ndarray'> (279, 8) 278 s\n",
      "WARNING *** OLE2 inconsistency: SSCS size is 0 but SSAT size is non-zero\n",
      "<class 'numpy.ndarray'> (79, 8) 78 s\n",
      "WARNING *** OLE2 inconsistency: SSCS size is 0 but SSAT size is non-zero\n",
      "<class 'numpy.ndarray'> (81, 8) 80 s\n",
      "WARNING *** OLE2 inconsistency: SSCS size is 0 but SSAT size is non-zero\n",
      "<class 'numpy.ndarray'> (90, 8) 89 s\n",
      "WARNING *** OLE2 inconsistency: SSCS size is 0 but SSAT size is non-zero\n",
      "<class 'numpy.ndarray'> (95, 8) 94 s\n",
      "WARNING *** OLE2 inconsistency: SSCS size is 0 but SSAT size is non-zero\n",
      "<class 'numpy.ndarray'> (114, 8) 113 s\n",
      "WARNING *** OLE2 inconsistency: SSCS size is 0 but SSAT size is non-zero\n",
      "<class 'numpy.ndarray'> (87, 8) 86 s\n",
      "WARNING *** OLE2 inconsistency: SSCS size is 0 but SSAT size is non-zero\n",
      "<class 'numpy.ndarray'> (119, 8) 118 s\n",
      "WARNING *** OLE2 inconsistency: SSCS size is 0 but SSAT size is non-zero\n",
      "<class 'numpy.ndarray'> (115, 8) 114 s\n",
      "WARNING *** OLE2 inconsistency: SSCS size is 0 but SSAT size is non-zero\n",
      "<class 'numpy.ndarray'> (95, 8) 94 s\n",
      "WARNING *** OLE2 inconsistency: SSCS size is 0 but SSAT size is non-zero\n",
      "<class 'numpy.ndarray'> (94, 8) 93 s\n",
      "WARNING *** OLE2 inconsistency: SSCS size is 0 but SSAT size is non-zero\n",
      "<class 'numpy.ndarray'> (126, 8) 125 s\n",
      "WARNING *** OLE2 inconsistency: SSCS size is 0 but SSAT size is non-zero\n",
      "<class 'numpy.ndarray'> (99, 8) 98 s\n",
      "WARNING *** OLE2 inconsistency: SSCS size is 0 but SSAT size is non-zero\n",
      "<class 'numpy.ndarray'> (274, 8) 273 s\n",
      "WARNING *** OLE2 inconsistency: SSCS size is 0 but SSAT size is non-zero\n",
      "<class 'numpy.ndarray'> (218, 8) 217 s\n",
      "WARNING *** OLE2 inconsistency: SSCS size is 0 but SSAT size is non-zero\n",
      "<class 'numpy.ndarray'> (241, 8) 240 s\n",
      "WARNING *** OLE2 inconsistency: SSCS size is 0 but SSAT size is non-zero\n",
      "<class 'numpy.ndarray'> (226, 8) 225 s\n",
      "WARNING *** OLE2 inconsistency: SSCS size is 0 but SSAT size is non-zero\n",
      "<class 'numpy.ndarray'> (232, 8) 231 s\n",
      "WARNING *** OLE2 inconsistency: SSCS size is 0 but SSAT size is non-zero\n",
      "<class 'numpy.ndarray'> (230, 8) 229 s\n",
      "WARNING *** OLE2 inconsistency: SSCS size is 0 but SSAT size is non-zero\n",
      "<class 'numpy.ndarray'> (227, 8) 226 s\n",
      "WARNING *** OLE2 inconsistency: SSCS size is 0 but SSAT size is non-zero\n",
      "<class 'numpy.ndarray'> (243, 8) 242 s\n",
      "WARNING *** OLE2 inconsistency: SSCS size is 0 but SSAT size is non-zero\n",
      "<class 'numpy.ndarray'> (249, 8) 248 s\n",
      "WARNING *** OLE2 inconsistency: SSCS size is 0 but SSAT size is non-zero\n",
      "<class 'numpy.ndarray'> (259, 8) 258 s\n",
      "WARNING *** OLE2 inconsistency: SSCS size is 0 but SSAT size is non-zero\n",
      "<class 'numpy.ndarray'> (290, 8) 289 s\n",
      "WARNING *** OLE2 inconsistency: SSCS size is 0 but SSAT size is non-zero\n",
      "<class 'numpy.ndarray'> (260, 8) 259 s\n",
      "WARNING *** OLE2 inconsistency: SSCS size is 0 but SSAT size is non-zero\n",
      "<class 'numpy.ndarray'> (111, 8) 110 s\n",
      "WARNING *** OLE2 inconsistency: SSCS size is 0 but SSAT size is non-zero\n",
      "<class 'numpy.ndarray'> (152, 8) 151 s\n",
      "WARNING *** OLE2 inconsistency: SSCS size is 0 but SSAT size is non-zero\n",
      "<class 'numpy.ndarray'> (179, 8) 178 s\n",
      "WARNING *** OLE2 inconsistency: SSCS size is 0 but SSAT size is non-zero\n",
      "<class 'numpy.ndarray'> (182, 8) 181 s\n",
      "WARNING *** OLE2 inconsistency: SSCS size is 0 but SSAT size is non-zero\n",
      "<class 'numpy.ndarray'> (191, 8) 190 s\n",
      "WARNING *** OLE2 inconsistency: SSCS size is 0 but SSAT size is non-zero\n",
      "<class 'numpy.ndarray'> (171, 8) 170 s\n",
      "WARNING *** OLE2 inconsistency: SSCS size is 0 but SSAT size is non-zero\n",
      "<class 'numpy.ndarray'> (169, 8) 168 s\n",
      "WARNING *** OLE2 inconsistency: SSCS size is 0 but SSAT size is non-zero\n",
      "<class 'numpy.ndarray'> (215, 8) 214 s\n",
      "WARNING *** OLE2 inconsistency: SSCS size is 0 but SSAT size is non-zero\n",
      "<class 'numpy.ndarray'> (233, 8) 232 s\n",
      "WARNING *** OLE2 inconsistency: SSCS size is 0 but SSAT size is non-zero\n",
      "<class 'numpy.ndarray'> (172, 8) 171 s\n",
      "WARNING *** OLE2 inconsistency: SSCS size is 0 but SSAT size is non-zero\n",
      "<class 'numpy.ndarray'> (245, 8) 244 s\n",
      "WARNING *** OLE2 inconsistency: SSCS size is 0 but SSAT size is non-zero\n",
      "<class 'numpy.ndarray'> (292, 8) 291 s\n"
     ]
    }
   ],
   "source": [
    "def load_table(table_path, time_start, time_end):\n",
    "  SIGNAL_pd = pd.read_excel(table_path)\n",
    "  # display(SIGNAL_pd)\n",
    "  SIGNAL_arr = SIGNAL_pd.values[time_start-2+10 : time_end-2-10+1, 1:-1]\n",
    "  print(type(SIGNAL_arr), SIGNAL_arr.shape, len(SIGNAL_arr)-1, \"s\")\n",
    "  # print(SIGNAL_arr)\n",
    "  return SIGNAL_arr\n",
    "\n",
    "Y01A = load_table(os.path.join(HOST_path, \"IDB_drilling_monitoring/table/9.17-1.xls\"), 140, 325)\n",
    "Y01B = load_table(os.path.join(HOST_path, \"IDB_drilling_monitoring/table/9.17-1.xls\"), 609, 791)\n",
    "Y01C = load_table(os.path.join(HOST_path, \"IDB_drilling_monitoring/table/9.17-1.xls\"), 1115, 1305)\n",
    "Y01D = load_table(os.path.join(HOST_path, \"IDB_drilling_monitoring/table/9.17-1.xls\"), 1530, 1733)\n",
    "\n",
    "Y02A = load_table(os.path.join(HOST_path, \"IDB_drilling_monitoring/table/9.17-1.xls\"), 3795, 4021)\n",
    "Y02B = load_table(os.path.join(HOST_path, \"IDB_drilling_monitoring/table/9.17-1.xls\"), 4241, 4461)\n",
    "Y02C = load_table(os.path.join(HOST_path, \"IDB_drilling_monitoring/table/9.17-1.xls\"), 4649, 4877)\n",
    "Y02D = load_table(os.path.join(HOST_path, \"IDB_drilling_monitoring/table/9.17-1.xls\"), 5100, 5337)\n",
    "\n",
    "Y03A = load_table(os.path.join(HOST_path, \"IDB_drilling_monitoring/table/9.17-1.xls\"), 5780, 6059)\n",
    "Y03B = load_table(os.path.join(HOST_path, \"IDB_drilling_monitoring/table/9.17-1.xls\"), 6267, 6500)\n",
    "Y03C = load_table(os.path.join(HOST_path, \"IDB_drilling_monitoring/table/9.17-1.xls\"), 6760, 7005)\n",
    "Y03D = load_table(os.path.join(HOST_path, \"IDB_drilling_monitoring/table/9.17-1.xls\"), 7223, 7521)\n",
    "\n",
    "Y04A = load_table(os.path.join(HOST_path, \"IDB_drilling_monitoring/table/9.17-2.xls\"), 123, 221)\n",
    "Y04B = load_table(os.path.join(HOST_path, \"IDB_drilling_monitoring/table/9.17-2.xls\"), 463, 563)\n",
    "Y04C = load_table(os.path.join(HOST_path, \"IDB_drilling_monitoring/table/9.17-2.xls\"), 773, 882)\n",
    "Y04D = load_table(os.path.join(HOST_path, \"IDB_drilling_monitoring/table/9.17-2.xls\"), 1103, 1217)\n",
    "\n",
    "Y05A = load_table(os.path.join(HOST_path, \"IDB_drilling_monitoring/table/9.17-2.xls\"), 1545, 1678)\n",
    "Y05B = load_table(os.path.join(HOST_path, \"IDB_drilling_monitoring/table/9.17-2.xls\"), 1931, 2037)\n",
    "Y05C = load_table(os.path.join(HOST_path, \"IDB_drilling_monitoring/table/9.17-2.xls\"), 2265, 2403)\n",
    "Y05D = load_table(os.path.join(HOST_path, \"IDB_drilling_monitoring/table/9.17-2.xls\"), 2613, 2747)\n",
    "\n",
    "Y06A = load_table(os.path.join(HOST_path, \"IDB_drilling_monitoring/table/9.17-2.xls\"), 3051, 3165)\n",
    "Y06B = load_table(os.path.join(HOST_path, \"IDB_drilling_monitoring/table/9.17-2.xls\"), 3377, 3490)\n",
    "Y06C = load_table(os.path.join(HOST_path, \"IDB_drilling_monitoring/table/9.17-2.xls\"), 3685, 3830)\n",
    "Y06D = load_table(os.path.join(HOST_path, \"IDB_drilling_monitoring/table/9.17-2.xls\"), 4169, 4287)\n",
    "\n",
    "Y07A = load_table(os.path.join(HOST_path, \"IDB_drilling_monitoring/table/9.17-3+4.xls\"), 146, 439)\n",
    "Y07B = load_table(os.path.join(HOST_path, \"IDB_drilling_monitoring/table/9.17-3+4.xls\"), 692, 929)\n",
    "Y07C = load_table(os.path.join(HOST_path, \"IDB_drilling_monitoring/table/9.17-3+4.xls\"), 1129, 1389)\n",
    "Y07D = load_table(os.path.join(HOST_path, \"IDB_drilling_monitoring/table/9.17-3+4.xls\"), 1592, 1837)\n",
    "\n",
    "Y08A = load_table(os.path.join(HOST_path, \"IDB_drilling_monitoring/table/9.17-3+4.xls\"), 2316, 2567)\n",
    "Y08B = load_table(os.path.join(HOST_path, \"IDB_drilling_monitoring/table/9.17-3+4.xls\"), 2809, 3058)\n",
    "Y08C = load_table(os.path.join(HOST_path, \"IDB_drilling_monitoring/table/9.17-3+4.xls\"), 3431, 3677)\n",
    "Y08D = load_table(os.path.join(HOST_path, \"IDB_drilling_monitoring/table/9.17-3+4.xls\"), 3895, 4157)\n",
    "\n",
    "Y09A = load_table(os.path.join(HOST_path, \"IDB_drilling_monitoring/table/9.17-3+4.xls\"), 4437, 4705)\n",
    "Y09B = load_table(os.path.join(HOST_path, \"IDB_drilling_monitoring/table/9.17-3+4.xls\"), 4951, 5229)\n",
    "Y09C = load_table(os.path.join(HOST_path, \"IDB_drilling_monitoring/table/9.17-3+4.xls\"), 5869, 6178)\n",
    "Y09D = load_table(os.path.join(HOST_path, \"IDB_drilling_monitoring/table/9.17-3+4.xls\"), 6396, 6675)\n",
    "\n",
    "Y10A = load_table(os.path.join(HOST_path, \"IDB_drilling_monitoring/table/9.17-3+4.xls\"), 8285, 8415)\n",
    "Y10B = load_table(os.path.join(HOST_path, \"IDB_drilling_monitoring/table/9.17-3+4.xls\"), 8629, 8800)\n",
    "Y10C = load_table(os.path.join(HOST_path, \"IDB_drilling_monitoring/table/9.17-3+4.xls\"), 9087, 9285)\n",
    "Y10D = load_table(os.path.join(HOST_path, \"IDB_drilling_monitoring/table/9.17-3+4.xls\"), 9710, 9911)\n",
    "\n",
    "Y11A = load_table(os.path.join(HOST_path, \"IDB_drilling_monitoring/table/9.17-3+4.xls\"), 10370, 10580)\n",
    "Y11B = load_table(os.path.join(HOST_path, \"IDB_drilling_monitoring/table/9.17-3+4.xls\"), 10785, 10975)\n",
    "Y11C = load_table(os.path.join(HOST_path, \"IDB_drilling_monitoring/table/9.17-3+4.xls\"), 11144, 11332)\n",
    "Y11D = load_table(os.path.join(HOST_path, \"IDB_drilling_monitoring/table/9.17-3+4.xls\"), 11733, 11967)\n",
    "\n",
    "Y12A = load_table(os.path.join(HOST_path, \"IDB_drilling_monitoring/table/9.17-3+4.xls\"), 12445, 12697)\n",
    "Y12B = load_table(os.path.join(HOST_path, \"IDB_drilling_monitoring/table/9.17-3+4.xls\"), 12955, 13146)\n",
    "Y12C = load_table(os.path.join(HOST_path, \"IDB_drilling_monitoring/table/9.17-3+4.xls\"), 13325, 13589)\n",
    "Y12D = load_table(os.path.join(HOST_path, \"IDB_drilling_monitoring/table/9.17-3+4.xls\"), 13768, 14079)"
   ]
  },
  {
   "cell_type": "code",
   "execution_count": 3,
   "metadata": {},
   "outputs": [
    {
     "name": "stdout",
     "output_type": "stream",
     "text": [
      "Y01A (166, 8) 165 s\n",
      "Y01B (163, 8) 162 s\n",
      "Y01C (171, 8) 170 s\n",
      "Y01D (184, 8) 183 s\n",
      "Y02A (207, 8) 206 s\n",
      "Y02B (201, 8) 200 s\n",
      "Y02C (209, 8) 208 s\n",
      "Y02D (218, 8) 217 s\n",
      "Y03A (260, 8) 259 s\n",
      "Y03B (214, 8) 213 s\n",
      "Y03C (226, 8) 225 s\n",
      "Y03D (279, 8) 278 s\n",
      "Y04A (79, 8) 78 s\n",
      "Y04B (81, 8) 80 s\n",
      "Y04C (90, 8) 89 s\n",
      "Y04D (95, 8) 94 s\n",
      "Y05A (114, 8) 113 s\n",
      "Y05B (87, 8) 86 s\n",
      "Y05C (119, 8) 118 s\n",
      "Y05D (115, 8) 114 s\n",
      "Y06A (95, 8) 94 s\n",
      "Y06B (94, 8) 93 s\n",
      "Y06C (126, 8) 125 s\n",
      "Y06D (99, 8) 98 s\n",
      "Y07A (274, 8) 273 s\n",
      "Y07B (218, 8) 217 s\n",
      "Y07C (241, 8) 240 s\n",
      "Y07D (226, 8) 225 s\n",
      "Y08A (232, 8) 231 s\n",
      "Y08B (230, 8) 229 s\n",
      "Y08C (227, 8) 226 s\n",
      "Y08D (243, 8) 242 s\n",
      "Y09A (249, 8) 248 s\n",
      "Y09B (259, 8) 258 s\n",
      "Y09C (290, 8) 289 s\n",
      "Y09D (260, 8) 259 s\n",
      "Y10A (111, 8) 110 s\n",
      "Y10B (152, 8) 151 s\n",
      "Y10C (179, 8) 178 s\n",
      "Y10D (182, 8) 181 s\n",
      "Y11A (191, 8) 190 s\n",
      "Y11B (171, 8) 170 s\n",
      "Y11C (169, 8) 168 s\n",
      "Y11D (215, 8) 214 s\n",
      "Y12A (233, 8) 232 s\n",
      "Y12B (172, 8) 171 s\n",
      "Y12C (245, 8) 244 s\n",
      "Y12D (292, 8) 291 s\n"
     ]
    }
   ],
   "source": [
    "table_list = [\"Y01A\", \"Y01B\", \"Y01C\", \"Y01D\",\n",
    "         \"Y02A\", \"Y02B\", \"Y02C\", \"Y02D\",\n",
    "         \"Y03A\", \"Y03B\", \"Y03C\", \"Y03D\",\n",
    "         \"Y04A\", \"Y04B\", \"Y04C\", \"Y04D\",\n",
    "         \"Y05A\", \"Y05B\", \"Y05C\", \"Y05D\",\n",
    "         \"Y06A\", \"Y06B\", \"Y06C\", \"Y06D\",\n",
    "         \"Y07A\", \"Y07B\", \"Y07C\", \"Y07D\",\n",
    "         \"Y08A\", \"Y08B\", \"Y08C\", \"Y08D\",\n",
    "         \"Y09A\", \"Y09B\", \"Y09C\", \"Y09D\",\n",
    "         \"Y10A\", \"Y10B\", \"Y10C\", \"Y10D\",\n",
    "         \"Y11A\", \"Y11B\", \"Y11C\", \"Y11D\",\n",
    "         \"Y12A\", \"Y12B\", \"Y12C\", \"Y12D\"]\n",
    "\n",
    "def check_table():\n",
    "    for table in table_list:\n",
    "        print(table, eval(table).shape, len(eval(table))-1,\"s\")\n",
    "check_table()"
   ]
  },
  {
   "cell_type": "markdown",
   "metadata": {},
   "source": [
    "## Regression"
   ]
  },
  {
   "cell_type": "code",
   "execution_count": 4,
   "metadata": {},
   "outputs": [],
   "source": [
    "INDEX_dict = [\"HEIGHT\", \"RPM\", \"TORQUE\", \"PUMPR\", \"PUMPP\", \"ROP\", \"WOB\"]"
   ]
  },
  {
   "cell_type": "code",
   "execution_count": 5,
   "metadata": {},
   "outputs": [
    {
     "name": "stdout",
     "output_type": "stream",
     "text": [
      "<class 'numpy.ndarray'> (8953, 8)\n",
      "[['10:24:25' '-354.00' '233.00' ... '919.00' '29.00' '813.00']\n",
      " ['10:24:26' '-352.00' '295.00' ... '919.00' '26.00' '800.00']\n",
      " ['10:24:27' '-351.00' '306.00' ... '1312.00' '28.00' '800.00']\n",
      " ...\n",
      " ['22:06:22' '-245.00' '302.00' ... '611.00' '19.00' '915.00']\n",
      " ['22:06:23' '-245.00' '302.00' ... '609.00' '19.00' '915.00']\n",
      " ['22:06:24' '-245.00' '302.00' ... '608.00' '19.00' '915.00']]\n",
      "<class 'numpy.ndarray'> (8953, 2)\n",
      "[['90.48' '29.00']\n",
      " ['92.63' '26.00']\n",
      " ['92.95' '28.00']\n",
      " ...\n",
      " ['54.76' '19.00']\n",
      " ['53.67' '19.00']\n",
      " ['54.25' '19.00']]\n",
      "<class 'numpy.ndarray'> (8953, 4)\n",
      "[['233.00' '71.00' '919.00' '813.00']\n",
      " ['295.00' '71.00' '919.00' '800.00']\n",
      " ['306.00' '71.00' '1312.00' '800.00']\n",
      " ...\n",
      " ['302.00' '50.00' '611.00' '915.00']\n",
      " ['302.00' '50.00' '609.00' '915.00']\n",
      " ['302.00' '50.00' '608.00' '915.00']]\n"
     ]
    }
   ],
   "source": [
    "X = np.concatenate((Y01A, Y01B, Y01C, Y01D,\n",
    "                    Y02A, Y02B, Y02C, Y02D,\n",
    "                    Y03A, Y03B, Y03C, Y03D,\n",
    "                    Y04A, Y04B, Y04C, Y04D,\n",
    "                    Y05A, Y05B, Y05C, Y05D,\n",
    "                    Y06A, Y06B, Y06C, Y06D,\n",
    "                    Y07A, Y07B, Y07C, Y07D,\n",
    "                    Y08A, Y08B, Y08C, Y08D,\n",
    "                    Y09A, Y09B, Y09C, Y09D,\n",
    "                    Y10A, Y10B, Y10C, Y10D,\n",
    "                    Y11A, Y11B, Y11C, Y11D,\n",
    "                    Y12A, Y12B, Y12C, Y12D), axis=0)\n",
    "print(type(X), X.shape)\n",
    "print(X)\n",
    "\n",
    "Y = X[:,[3,6]]\n",
    "print(type(Y), Y.shape)\n",
    "print(Y)\n",
    "\n",
    "X = X[:,[2,4,5,7]]\n",
    "print(type(X), X.shape)\n",
    "print(X)"
   ]
  },
  {
   "cell_type": "code",
   "execution_count": 6,
   "metadata": {},
   "outputs": [
    {
     "name": "stdout",
     "output_type": "stream",
     "text": [
      "<class 'numpy.ndarray'> (7162, 4)\n",
      "<class 'numpy.ndarray'> (1791, 4)\n",
      "<class 'numpy.ndarray'> (7162, 2)\n",
      "<class 'numpy.ndarray'> (1791, 2)\n"
     ]
    }
   ],
   "source": [
    "X_train, X_test, Y_train, Y_test = train_test_split(X, Y, test_size=0.2, random_state=42)\n",
    "print(type(X_train), X_train.shape)\n",
    "print(type(X_test), X_test.shape)\n",
    "print(type(Y_train), Y_train.shape)\n",
    "print(type(Y_test), Y_test.shape)"
   ]
  },
  {
   "cell_type": "code",
   "execution_count": 7,
   "metadata": {},
   "outputs": [],
   "source": [
    "# 一元线性回归\n",
    "from sklearn.linear_model import LinearRegression\n",
    "model = LinearRegression()\n",
    "\n",
    "# 岭回归\n",
    "from sklearn.linear_model import Ridge\n",
    "# model = Ridge(alpha=0.01) \n",
    "\n",
    "# 弹性网络回归\n",
    "from sklearn.linear_model import ElasticNet\n",
    "# model = ElasticNet(random_state=0)\n",
    "\n",
    "# 最小回归角回归\n",
    "from sklearn.linear_model import Lars\n",
    "# model = Lars(n_nonzero_coefs=1)\n",
    "\n",
    "# 偏最小二乘法回归\n",
    "from sklearn.cross_decomposition import PLSRegression\n",
    "# model = PLSRegression(n_components=2)"
   ]
  },
  {
   "cell_type": "code",
   "execution_count": 8,
   "metadata": {},
   "outputs": [
    {
     "data": {
      "text/html": [
       "<style>#sk-container-id-1 {color: black;}#sk-container-id-1 pre{padding: 0;}#sk-container-id-1 div.sk-toggleable {background-color: white;}#sk-container-id-1 label.sk-toggleable__label {cursor: pointer;display: block;width: 100%;margin-bottom: 0;padding: 0.3em;box-sizing: border-box;text-align: center;}#sk-container-id-1 label.sk-toggleable__label-arrow:before {content: \"▸\";float: left;margin-right: 0.25em;color: #696969;}#sk-container-id-1 label.sk-toggleable__label-arrow:hover:before {color: black;}#sk-container-id-1 div.sk-estimator:hover label.sk-toggleable__label-arrow:before {color: black;}#sk-container-id-1 div.sk-toggleable__content {max-height: 0;max-width: 0;overflow: hidden;text-align: left;background-color: #f0f8ff;}#sk-container-id-1 div.sk-toggleable__content pre {margin: 0.2em;color: black;border-radius: 0.25em;background-color: #f0f8ff;}#sk-container-id-1 input.sk-toggleable__control:checked~div.sk-toggleable__content {max-height: 200px;max-width: 100%;overflow: auto;}#sk-container-id-1 input.sk-toggleable__control:checked~label.sk-toggleable__label-arrow:before {content: \"▾\";}#sk-container-id-1 div.sk-estimator input.sk-toggleable__control:checked~label.sk-toggleable__label {background-color: #d4ebff;}#sk-container-id-1 div.sk-label input.sk-toggleable__control:checked~label.sk-toggleable__label {background-color: #d4ebff;}#sk-container-id-1 input.sk-hidden--visually {border: 0;clip: rect(1px 1px 1px 1px);clip: rect(1px, 1px, 1px, 1px);height: 1px;margin: -1px;overflow: hidden;padding: 0;position: absolute;width: 1px;}#sk-container-id-1 div.sk-estimator {font-family: monospace;background-color: #f0f8ff;border: 1px dotted black;border-radius: 0.25em;box-sizing: border-box;margin-bottom: 0.5em;}#sk-container-id-1 div.sk-estimator:hover {background-color: #d4ebff;}#sk-container-id-1 div.sk-parallel-item::after {content: \"\";width: 100%;border-bottom: 1px solid gray;flex-grow: 1;}#sk-container-id-1 div.sk-label:hover label.sk-toggleable__label {background-color: #d4ebff;}#sk-container-id-1 div.sk-serial::before {content: \"\";position: absolute;border-left: 1px solid gray;box-sizing: border-box;top: 0;bottom: 0;left: 50%;z-index: 0;}#sk-container-id-1 div.sk-serial {display: flex;flex-direction: column;align-items: center;background-color: white;padding-right: 0.2em;padding-left: 0.2em;position: relative;}#sk-container-id-1 div.sk-item {position: relative;z-index: 1;}#sk-container-id-1 div.sk-parallel {display: flex;align-items: stretch;justify-content: center;background-color: white;position: relative;}#sk-container-id-1 div.sk-item::before, #sk-container-id-1 div.sk-parallel-item::before {content: \"\";position: absolute;border-left: 1px solid gray;box-sizing: border-box;top: 0;bottom: 0;left: 50%;z-index: -1;}#sk-container-id-1 div.sk-parallel-item {display: flex;flex-direction: column;z-index: 1;position: relative;background-color: white;}#sk-container-id-1 div.sk-parallel-item:first-child::after {align-self: flex-end;width: 50%;}#sk-container-id-1 div.sk-parallel-item:last-child::after {align-self: flex-start;width: 50%;}#sk-container-id-1 div.sk-parallel-item:only-child::after {width: 0;}#sk-container-id-1 div.sk-dashed-wrapped {border: 1px dashed gray;margin: 0 0.4em 0.5em 0.4em;box-sizing: border-box;padding-bottom: 0.4em;background-color: white;}#sk-container-id-1 div.sk-label label {font-family: monospace;font-weight: bold;display: inline-block;line-height: 1.2em;}#sk-container-id-1 div.sk-label-container {text-align: center;}#sk-container-id-1 div.sk-container {/* jupyter's `normalize.less` sets `[hidden] { display: none; }` but bootstrap.min.css set `[hidden] { display: none !important; }` so we also need the `!important` here to be able to override the default hidden behavior on the sphinx rendered scikit-learn.org. See: https://github.com/scikit-learn/scikit-learn/issues/21755 */display: inline-block !important;position: relative;}#sk-container-id-1 div.sk-text-repr-fallback {display: none;}</style><div id=\"sk-container-id-1\" class=\"sk-top-container\"><div class=\"sk-text-repr-fallback\"><pre>LinearRegression()</pre><b>In a Jupyter environment, please rerun this cell to show the HTML representation or trust the notebook. <br />On GitHub, the HTML representation is unable to render, please try loading this page with nbviewer.org.</b></div><div class=\"sk-container\" hidden><div class=\"sk-item\"><div class=\"sk-estimator sk-toggleable\"><input class=\"sk-toggleable__control sk-hidden--visually\" id=\"sk-estimator-id-1\" type=\"checkbox\" checked><label for=\"sk-estimator-id-1\" class=\"sk-toggleable__label sk-toggleable__label-arrow\">LinearRegression</label><div class=\"sk-toggleable__content\"><pre>LinearRegression()</pre></div></div></div></div></div>"
      ],
      "text/plain": [
       "LinearRegression()"
      ]
     },
     "execution_count": 8,
     "metadata": {},
     "output_type": "execute_result"
    }
   ],
   "source": [
    "model.fit(X_train, Y_train)"
   ]
  },
  {
   "cell_type": "code",
   "execution_count": 9,
   "metadata": {},
   "outputs": [],
   "source": [
    "Y_test_pred = model.predict(X_test)"
   ]
  },
  {
   "cell_type": "code",
   "execution_count": 10,
   "metadata": {},
   "outputs": [
    {
     "name": "stdout",
     "output_type": "stream",
     "text": [
      "MAE = 8.009529709795945\n",
      "MSE = 135.63120205935306\n",
      "RMSE= 11.646080974274266\n",
      "R^2 = 0.34638852625631933\n"
     ]
    }
   ],
   "source": [
    "print(\"MAE =\", mean_absolute_error(Y_test, Y_test_pred))         # 残差绝对值\n",
    "print(\"MSE =\", mean_squared_error(Y_test, Y_test_pred))          # 通过平方放大了残差\n",
    "print(\"RMSE=\", np.sqrt(mean_squared_error(Y_test, Y_test_pred))) # 通过开方，还原被放大残差\n",
    "print(\"R^2 =\", r2_score(Y_test, Y_test_pred))                    # R2是相对比例值"
   ]
  },
  {
   "cell_type": "code",
   "execution_count": 11,
   "metadata": {},
   "outputs": [
    {
     "name": "stdout",
     "output_type": "stream",
     "text": [
      "(1791, 2) (1791, 2)\n"
     ]
    }
   ],
   "source": [
    "print(Y_test.shape, Y_test_pred.shape)"
   ]
  },
  {
   "cell_type": "code",
   "execution_count": 12,
   "metadata": {},
   "outputs": [
    {
     "data": {
      "image/png": "[encoded data removed]",
      "text/plain": [
       "<Figure size 360x360 with 1 Axes>"
      ]
     },
     "metadata": {
      "needs_background": "light"
     },
     "output_type": "display_data"
    },
    {
     "data": {
      "image/png": "[encoded data removed]",
      "text/plain": [
       "<Figure size 360x360 with 1 Axes>"
      ]
     },
     "metadata": {
      "needs_background": "light"
     },
     "output_type": "display_data"
    }
   ],
   "source": [
    "def plot_compare(i):\n",
    "    plt.figure(figsize=(5,5))\n",
    "    plt.scatter(Y_test[:,i], Y_test_pred[:,i], s=20, edgecolor=\"black\",c=\"darkorange\", label=\"data\")\n",
    "    xlim = plt.xlim()\n",
    "    ylim = plt.ylim()\n",
    "    MIN = min(xlim[0], ylim[0])\n",
    "    MAX = max(xlim[1], ylim[1])\n",
    "    plt.xlim(MIN, MAX)\n",
    "    plt.ylim(MIN, MAX)\n",
    "    plt.savefig(os.path.join(SAVE_path, \"true_pred_\"+str(i)+\".png\"), dpi=300, bbox_inches='tight', transparent=True)\n",
    "\n",
    "for i in range(Y_test.shape[1]):\n",
    "    plot_compare(i)"
   ]
  }
 ],
 "metadata": {
  "accelerator": "GPU",
  "colab": {
   "gpuType": "T4",
   "provenance": []
  },
  "kernelspec": {
   "display_name": "Python 3 (ipykernel)",
   "language": "python",
   "name": "python3"
  },
  "language_info": {
   "codemirror_mode": {
    "name": "ipython",
    "version": 3
   },
   "file_extension": ".py",
   "mimetype": "text/x-python",
   "name": "python",
   "nbconvert_exporter": "python",
   "pygments_lexer": "ipython3",
   "version": "3.8.10"
  }
 },
 "nbformat": 4,
 "nbformat_minor": 4
}
