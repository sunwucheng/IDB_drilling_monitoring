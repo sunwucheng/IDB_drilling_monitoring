{
 "cells": [
  {
   "cell_type": "markdown",
   "metadata": {
    "id": "mA_-eAkuEnLC"
   },
   "source": [
    "# IDB_drilling_monitoring_evaluation"
   ]
  },
  {
   "cell_type": "markdown",
   "metadata": {
    "id": "G6Dqfh0oC9d7"
   },
   "source": [
    "## Import packages"
   ]
  },
  {
   "cell_type": "code",
   "execution_count": null,
   "metadata": {
    "id": "8KJudV78mY5m",
    "scrolled": true
   },
   "outputs": [],
   "source": [
    "import gc\n",
    "import IPython\n",
    "import librosa\n",
    "import matplotlib.pyplot as plt\n",
    "import numpy as np\n",
    "import os\n",
    "import pandas as pd\n",
    "import scipy.io as scio\n",
    "import soundfile\n",
    "import time\n",
    "from keras.layers import Activation, BatchNormalization, Concatenate, Conv1D, Conv2D, Dense, Dropout, Flatten\n",
    "from keras.layers import GlobalAveragePooling1D, GlobalAveragePooling2D, Input, MaxPooling1D, MaxPooling2D\n",
    "from keras.models import load_model, Model, Sequential\n",
    "from keras.utils import to_categorical\n",
    "from pyts.image import RecurrencePlot, MarkovTransitionField, GramianAngularField\n",
    "from sklearn.metrics import confusion_matrix, mean_squared_error, mean_absolute_error, r2_score\n",
    "from sklearn.model_selection import train_test_split\n",
    "from tensorflow import keras\n",
    "from tqdm import tqdm\n",
    "\n",
    "!nvidia-smi\n",
    "HOST_path = \"/root/autodl-tmp\"\n",
    "\n",
    "SETS_path = os.path.join(HOST_path, \"IDB_drilling_monitoring/datasets\")\n",
    "SAVE_path = os.path.join(HOST_path, \"IDB_drilling_monitoring/evaluation\")\n",
    "\n",
    "if not os.path.exists(SAVE_path):\n",
    "    os.makedirs(SAVE_path)"
   ]
  },
  {
   "cell_type": "markdown",
   "metadata": {
    "id": "pAQJZnnvpeT0"
   },
   "source": [
    "## Import datasets"
   ]
  },
  {
   "cell_type": "code",
   "execution_count": null,
   "metadata": {},
   "outputs": [],
   "source": [
    "X_set = np.load(os.path.join(DATA_path, \"X_set.npy\"))\n",
    "X_set_cnn = np.load(os.path.join(DATA_path, \"X_set_cnn.npy\"))\n",
    "Y_set = np.load(os.path.join(DATA_path, \"Y_set.npy\"))\n",
    "\n",
    "print(X_set.shape)\n",
    "print(X_set_cnn.shape)\n",
    "print(Y_set.shape)"
   ]
  },
  {
   "cell_type": "code",
   "execution_count": null,
   "metadata": {},
   "outputs": [],
   "source": [
    "ALL7 = np.load(os.path.join(DATA_path, \"ALL7.npy\"))\n",
    "ALL6 = np.load(os.path.join(DATA_path, \"ALL6.npy\"))\n",
    "HEIGHT = np.load(os.path.join(DATA_path, \"HEIGHT.npy\"))\n",
    "RPM = np.load(os.path.join(DATA_path, \"RPM.npy\"))\n",
    "TORQUE = np.load(os.path.join(DATA_path, \"TORQUE.npy\"))\n",
    "PUMPR = np.load(os.path.join(DATA_path, \"PUMPR.npy\"))\n",
    "PUMPP = np.load(os.path.join(DATA_path, \"PUMPP.npy\"))\n",
    "ROP = np.load(os.path.join(DATA_path, \"ROP.npy\"))\n",
    "WOB = np.load(os.path.join(DATA_path, \"WOB.npy\"))\n",
    "\n",
    "print(ALL7.shape)\n",
    "print(ALL6.shape)\n",
    "print(HEIGHT.shape)\n",
    "print(RPM.shape)\n",
    "print(TORQUE.shape)\n",
    "print(PUMPR.shape)\n",
    "print(PUMPP.shape)\n",
    "print(ROP.shape)\n",
    "print(WOB.shape)"
   ]
  },
  {
   "cell_type": "markdown",
   "metadata": {},
   "source": [
    "### Evaluation"
   ]
  },
  {
   "cell_type": "markdown",
   "metadata": {},
   "source": [
    "#### group"
   ]
  },
  {
   "cell_type": "code",
   "execution_count": null,
   "metadata": {},
   "outputs": [],
   "source": [
    "DATA = \"ALL\""
   ]
  },
  {
   "cell_type": "code",
   "execution_count": null,
   "metadata": {},
   "outputs": [],
   "source": [
    "DATA_path = os.path.join(SETS_path, DATA)\n",
    "\n",
    "if not os.path.exists(DATA_path):\n",
    "    os.makedirs(DATA_path)"
   ]
  },
  {
   "cell_type": "code",
   "execution_count": null,
   "metadata": {},
   "outputs": [],
   "source": [
    "INPUT = X_set_cnn\n",
    "OUTPUT = eval(DATA)"
   ]
  },
  {
   "cell_type": "code",
   "execution_count": null,
   "metadata": {},
   "outputs": [],
   "source": [
    "if OUTPUT.ndim == 1:\n",
    "    num_targets = 1\n",
    "else:\n",
    "    num_targets = OUTPUT.shape[1]\n",
    "\n",
    "x_train, x_test, y_train, y_test = train_test_split(INPUT, OUTPUT, test_size=0.25, random_state=42)\n",
    "\n",
    "print(x_train.shape)\n",
    "print(y_train.shape)\n",
    "print(x_test.shape)\n",
    "print(y_test.shape)\n",
    "print(num_targets)"
   ]
  },
  {
   "cell_type": "code",
   "execution_count": null,
   "metadata": {},
   "outputs": [],
   "source": [
    "# np.save(os.path.join(DATA_path, \"x_train.npy\"), x_train)\n",
    "np.save(os.path.join(DATA_path, \"y_train.npy\"), y_train)\n",
    "# np.save(os.path.join(DATA_path, \"x_test.npy\"), x_test)\n",
    "np.save(os.path.join(DATA_path, \"y_test.npy\"), y_test)"
   ]
  },
  {
   "cell_type": "code",
   "execution_count": null,
   "metadata": {},
   "outputs": [],
   "source": [
    "model = load_model(os.path.join(HOST_path, \"IDB_drilling_monitoring/outputs_\"+DATA+\"/best_model.hdf5\"))"
   ]
  },
  {
   "cell_type": "code",
   "execution_count": null,
   "metadata": {},
   "outputs": [],
   "source": [
    "y_train_pred = model.predict(x_train)\n",
    "y_test_pred = model.predict(x_test)\n",
    "\n",
    "print(y_train_pred.shape)\n",
    "print(y_test_pred.shape)"
   ]
  },
  {
   "cell_type": "code",
   "execution_count": null,
   "metadata": {},
   "outputs": [],
   "source": [
    "np.save(os.path.join(DATA_path, \"y_train_pred.npy\"), y_train_pred)\n",
    "np.save(os.path.join(DATA_path, \"y_test_pred.npy\"), y_test_pred)"
   ]
  },
  {
   "cell_type": "code",
   "execution_count": null,
   "metadata": {},
   "outputs": [],
   "source": [
    "print(\"MAE =\", mean_absolute_error(y_test, y_test_pred))         # 残差绝对值\n",
    "print(\"MSE =\", mean_squared_error(y_test, y_test_pred))         # 通过平方放大了残差\n",
    "print(\"RMSE=\", np.sqrt(mean_squared_error(y_test, y_test_pred))) # 通过开方，还原被放大残差\n",
    "print(\"R^2 =\", r2_score(y_test, y_test_pred))                    # R2是相对比例值"
   ]
  },
  {
   "cell_type": "code",
   "execution_count": null,
   "metadata": {},
   "outputs": [],
   "source": [
    "if num_targets != 1:\n",
    "    for i in range(num_targets):\n",
    "        print(\"index: \", str(i))\n",
    "        print(\"MAE =\", mean_absolute_error(y_test[:,i], y_test_pred[:,i]))         \n",
    "        print(\"MSE =\", mean_squared_error(y_test[:,i], y_test_pred[:,i]))         \n",
    "        print(\"RMSE=\", np.sqrt(mean_squared_error(y_test[:,i], y_test_pred[:,i]))) \n",
    "        print(\"R^2 =\", r2_score(y_test[:,i], y_test_pred[:,i])) "
   ]
  },
  {
   "cell_type": "markdown",
   "metadata": {},
   "source": [
    "#### Show and Save"
   ]
  },
  {
   "cell_type": "code",
   "execution_count": null,
   "metadata": {},
   "outputs": [],
   "source": [
    "hist = np.load((os.path.join(HOST_path, \"IDB_drilling_monitoring/outputs_\"+DATA+\"/history.npy\")), allow_pickle=True).item()"
   ]
  },
  {
   "cell_type": "code",
   "execution_count": null,
   "metadata": {},
   "outputs": [],
   "source": [
    "plt.plot(hist['loss'])\n",
    "plt.plot(hist['val_loss'])\n",
    "plt.title('Model Loss')\n",
    "plt.ylabel('Loss')\n",
    "plt.xlabel('Epoch')\n",
    "plt.legend(['Train set', 'Test set'], loc='upper right')\n",
    "plt.savefig(os.path.join(DATA_path, \"loss.png\"), dpi=300, bbox_inches='tight', transparent=True)\n",
    "plt.show()"
   ]
  },
  {
   "cell_type": "code",
   "execution_count": null,
   "metadata": {},
   "outputs": [],
   "source": [
    "def plot_train1(i):\n",
    "    plt.figure(figsize=(5,5))\n",
    "    plt.scatter(y_train[:,i], y_train_pred[:,i], s=20, edgecolor=\"black\",c=\"darkorange\", label=\"data\")\n",
    "    xlim = plt.xlim()\n",
    "    ylim = plt.ylim()\n",
    "    MIN = min(xlim[0], ylim[0])\n",
    "    MAX = max(xlim[1], ylim[1])\n",
    "    plt.xlim(MIN, MAX)\n",
    "    plt.ylim(MIN, MAX)\n",
    "    plt.savefig(os.path.join(DATA_path, \"train_true_pred_\"+str(i)), dpi=300, bbox_inches='tight', transparent=True)\n",
    "    \n",
    "def plot_train0():\n",
    "    plt.figure(figsize=(5,5))\n",
    "    plt.scatter(y_train, y_train_pred, s=20, edgecolor=\"black\",c=\"darkorange\", label=\"data\")\n",
    "    xlim = plt.xlim()\n",
    "    ylim = plt.ylim()\n",
    "    MIN = min(xlim[0], ylim[0])\n",
    "    MAX = max(xlim[1], ylim[1])\n",
    "    plt.xlim(MIN, MAX)\n",
    "    plt.ylim(MIN, MAX)\n",
    "    plt.savefig(os.path.join(DATA_path, \"train_true_pred\"), dpi=300, bbox_inches='tight', transparent=True)"
   ]
  },
  {
   "cell_type": "code",
   "execution_count": null,
   "metadata": {},
   "outputs": [],
   "source": [
    "if num_targets != 1:\n",
    "    for i in range(num_targets):\n",
    "        plot_train1(i)    \n",
    "else:\n",
    "    plot_train0()"
   ]
  },
  {
   "cell_type": "code",
   "execution_count": null,
   "metadata": {},
   "outputs": [],
   "source": [
    "def plot_test1(i):\n",
    "    plt.figure(figsize=(5,5))\n",
    "    plt.scatter(y_test[:,i], y_test_pred[:,i], s=20, edgecolor=\"black\",c=\"darkorange\", label=\"data\")\n",
    "    xlim = plt.xlim()\n",
    "    ylim = plt.ylim()\n",
    "    MIN = min(xlim[0], ylim[0])\n",
    "    MAX = max(xlim[1], ylim[1])\n",
    "    plt.xlim(MIN, MAX)\n",
    "    plt.ylim(MIN, MAX)\n",
    "    plt.savefig(os.path.join(DATA_path, \"test_true_pred_\"+str(i)), dpi=300, bbox_inches='tight', transparent=True)\n",
    "    \n",
    "def plot_test0():\n",
    "    plt.figure(figsize=(5,5))\n",
    "    plt.scatter(y_test, y_test_pred, s=20, edgecolor=\"black\",c=\"darkorange\", label=\"data\")\n",
    "    xlim = plt.xlim()\n",
    "    ylim = plt.ylim()\n",
    "    MIN = min(xlim[0], ylim[0])\n",
    "    MAX = max(xlim[1], ylim[1])\n",
    "    plt.xlim(MIN, MAX)\n",
    "    plt.ylim(MIN, MAX)\n",
    "    plt.savefig(os.path.join(DATA_path, \"test_true_pred\"), dpi=300, bbox_inches='tight', transparent=True)"
   ]
  },
  {
   "cell_type": "code",
   "execution_count": null,
   "metadata": {},
   "outputs": [],
   "source": [
    "if num_targets != 1:\n",
    "    for i in range(num_targets):\n",
    "        plot_test1(i)    \n",
    "else:\n",
    "    plot_test0()"
   ]
  },
  {
   "cell_type": "code",
   "execution_count": null,
   "metadata": {},
   "outputs": [],
   "source": [
    "def save_data(array):\n",
    "    arr = eval(array)\n",
    "    np.savetxt(os.path.join(DATA_path, array+'.csv'), arr, delimiter=', ', fmt='%f')"
   ]
  },
  {
   "cell_type": "code",
   "execution_count": null,
   "metadata": {},
   "outputs": [],
   "source": [
    "save_data(\"y_train\")\n",
    "save_data(\"y_train_pred\")\n",
    "save_data(\"y_test\")\n",
    "save_data(\"y_test_pred\")"
   ]
  }
 ],
 "metadata": {
  "accelerator": "GPU",
  "colab": {
   "gpuType": "T4",
   "provenance": []
  },
  "kernelspec": {
   "display_name": "Python 3 (ipykernel)",
   "language": "python",
   "name": "python3"
  },
  "language_info": {
   "codemirror_mode": {
    "name": "ipython",
    "version": 3
   },
   "file_extension": ".py",
   "mimetype": "text/x-python",
   "name": "python",
   "nbconvert_exporter": "python",
   "pygments_lexer": "ipython3",
   "version": "3.8.10"
  }
 },
 "nbformat": 4,
 "nbformat_minor": 4
}
