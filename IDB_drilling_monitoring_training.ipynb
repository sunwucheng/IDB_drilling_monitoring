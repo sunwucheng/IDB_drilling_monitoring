{
 "cells": [
  {
   "cell_type": "markdown",
   "metadata": {
    "id": "mA_-eAkuEnLC"
   },
   "source": [
    "# IDB_drilling_monitoring_evaluation"
   ]
  },
  {
   "cell_type": "markdown",
   "metadata": {
    "id": "G6Dqfh0oC9d7"
   },
   "source": [
    "## Import packages"
   ]
  },
  {
   "cell_type": "code",
   "execution_count": 1,
   "metadata": {
    "id": "8KJudV78mY5m",
    "scrolled": true
   },
   "outputs": [
    {
     "name": "stderr",
     "output_type": "stream",
     "text": [
      "2023-10-22 16:04:26.759503: I tensorflow/core/util/util.cc:169] oneDNN custom operations are on. You may see slightly different numerical results due to floating-point round-off errors from different computation orders. To turn them off, set the environment variable `TF_ENABLE_ONEDNN_OPTS=0`.\n"
     ]
    },
    {
     "name": "stdout",
     "output_type": "stream",
     "text": [
      "Sun Oct 22 16:04:28 2023       \n",
      "+-----------------------------------------------------------------------------+\n",
      "| NVIDIA-SMI 525.105.17   Driver Version: 525.105.17   CUDA Version: 12.0     |\n",
      "|-------------------------------+----------------------+----------------------+\n",
      "| GPU  Name        Persistence-M| Bus-Id        Disp.A | Volatile Uncorr. ECC |\n",
      "| Fan  Temp  Perf  Pwr:Usage/Cap|         Memory-Usage | GPU-Util  Compute M. |\n",
      "|                               |                      |               MIG M. |\n",
      "|===============================+======================+======================|\n",
      "|   0  NVIDIA GeForce ...  On   | 00000000:32:00.0 Off |                  Off |\n",
      "| 30%   29C    P8    26W / 450W |      2MiB / 24564MiB |      0%      Default |\n",
      "|                               |                      |                  N/A |\n",
      "+-------------------------------+----------------------+----------------------+\n",
      "                                                                               \n",
      "+-----------------------------------------------------------------------------+\n",
      "| Processes:                                                                  |\n",
      "|  GPU   GI   CI        PID   Type   Process name                  GPU Memory |\n",
      "|        ID   ID                                                   Usage      |\n",
      "|=============================================================================|\n",
      "|  No running processes found                                                 |\n",
      "+-----------------------------------------------------------------------------+\n"
     ]
    }
   ],
   "source": [
    "import gc\n",
    "import IPython\n",
    "import librosa\n",
    "import matplotlib.pyplot as plt\n",
    "import numpy as np\n",
    "import os\n",
    "import pandas as pd\n",
    "import scipy.io as scio\n",
    "import soundfile\n",
    "import time\n",
    "from keras.layers import Activation, BatchNormalization, Concatenate, Conv1D, Conv2D, Dense, Dropout, Flatten\n",
    "from keras.layers import GlobalAveragePooling1D, GlobalAveragePooling2D, Input, MaxPooling1D, MaxPooling2D\n",
    "from keras.models import load_model, Model, Sequential\n",
    "from keras.utils import to_categorical\n",
    "from pyts.image import RecurrencePlot, MarkovTransitionField, GramianAngularField\n",
    "from sklearn.metrics import confusion_matrix, mean_squared_error, mean_absolute_error, r2_score\n",
    "from sklearn.model_selection import train_test_split\n",
    "from tensorflow import keras\n",
    "from tqdm import tqdm\n",
    "\n",
    "!nvidia-smi\n",
    "HOST_path = \"/root/autodl-tmp\"\n",
    "\n",
    "SETS_path = os.path.join(HOST_path, \"IDB_drilling_monitoring/datasets\")\n",
    "SAVE_path = os.path.join(HOST_path, \"IDB_drilling_monitoring/predict\")\n",
    "\n",
    "if not os.path.exists(SAVE_path):\n",
    "    os.makedirs(SAVE_path)"
   ]
  },
  {
   "cell_type": "markdown",
   "metadata": {
    "id": "pAQJZnnvpeT0"
   },
   "source": [
    "## Import datasets"
   ]
  },
  {
   "cell_type": "code",
   "execution_count": 2,
   "metadata": {},
   "outputs": [
    {
     "name": "stdout",
     "output_type": "stream",
     "text": [
      "(35524, 12000)\n",
      "(35524, 12000, 1)\n",
      "(35524, 7)\n"
     ]
    }
   ],
   "source": [
    "X_set = np.load(os.path.join(SETS_path, \"X_set.npy\"))\n",
    "X_set_cnn = np.load(os.path.join(SETS_path, \"X_set_cnn.npy\"))\n",
    "Y_set = np.load(os.path.join(SETS_path, \"Y_set.npy\"))\n",
    "\n",
    "print(X_set.shape)\n",
    "print(X_set_cnn.shape)\n",
    "print(Y_set.shape)"
   ]
  },
  {
   "cell_type": "code",
   "execution_count": 3,
   "metadata": {},
   "outputs": [
    {
     "name": "stdout",
     "output_type": "stream",
     "text": [
      "(35524, 7)\n",
      "(35524, 6)\n",
      "(35524,)\n",
      "(35524,)\n",
      "(35524,)\n",
      "(35524,)\n",
      "(35524,)\n",
      "(35524,)\n",
      "(35524,)\n"
     ]
    }
   ],
   "source": [
    "ALL7 = np.load(os.path.join(SETS_path, \"ALL7.npy\"))\n",
    "ALL6 = np.load(os.path.join(SETS_path, \"ALL6.npy\"))\n",
    "HEIGHT = np.load(os.path.join(SETS_path, \"HEIGHT.npy\"))\n",
    "RPM = np.load(os.path.join(SETS_path, \"RPM.npy\"))\n",
    "TORQUE = np.load(os.path.join(SETS_path, \"TORQUE.npy\"))\n",
    "PUMPR = np.load(os.path.join(SETS_path, \"PUMPR.npy\"))\n",
    "PUMPP = np.load(os.path.join(SETS_path, \"PUMPP.npy\"))\n",
    "ROP = np.load(os.path.join(SETS_path, \"ROP.npy\"))\n",
    "WOB = np.load(os.path.join(SETS_path, \"WOB.npy\"))\n",
    "\n",
    "print(ALL7.shape)\n",
    "print(ALL6.shape)\n",
    "print(HEIGHT.shape)\n",
    "print(RPM.shape)\n",
    "print(TORQUE.shape)\n",
    "print(PUMPR.shape)\n",
    "print(PUMPP.shape)\n",
    "print(ROP.shape)\n",
    "print(WOB.shape)"
   ]
  },
  {
   "cell_type": "markdown",
   "metadata": {},
   "source": [
    "### Evaluation"
   ]
  },
  {
   "cell_type": "markdown",
   "metadata": {},
   "source": [
    "#### group"
   ]
  },
  {
   "cell_type": "code",
   "execution_count": 4,
   "metadata": {},
   "outputs": [],
   "source": [
    "DATA = \"WOB\""
   ]
  },
  {
   "cell_type": "code",
   "execution_count": 5,
   "metadata": {},
   "outputs": [],
   "source": [
    "DATA_path = os.path.join(SAVE_path, DATA)\n",
    "\n",
    "if not os.path.exists(DATA_path):\n",
    "    os.makedirs(DATA_path)"
   ]
  },
  {
   "cell_type": "code",
   "execution_count": 6,
   "metadata": {},
   "outputs": [],
   "source": [
    "INPUT = X_set_cnn\n",
    "OUTPUT = eval(DATA)"
   ]
  },
  {
   "cell_type": "code",
   "execution_count": 7,
   "metadata": {},
   "outputs": [
    {
     "name": "stdout",
     "output_type": "stream",
     "text": [
      "(26643, 12000, 1)\n",
      "(26643,)\n",
      "(8881, 12000, 1)\n",
      "(8881,)\n",
      "1\n"
     ]
    }
   ],
   "source": [
    "if OUTPUT.ndim == 1:\n",
    "    num_targets = 1\n",
    "else:\n",
    "    num_targets = OUTPUT.shape[1]\n",
    "\n",
    "x_train, x_test, y_train, y_test = train_test_split(INPUT, OUTPUT, test_size=0.25, random_state=42)\n",
    "\n",
    "print(x_train.shape)\n",
    "print(y_train.shape)\n",
    "print(x_test.shape)\n",
    "print(y_test.shape)\n",
    "print(num_targets)"
   ]
  },
  {
   "cell_type": "code",
   "execution_count": 8,
   "metadata": {},
   "outputs": [
    {
     "name": "stderr",
     "output_type": "stream",
     "text": [
      "2023-10-22 16:04:33.712389: I tensorflow/core/platform/cpu_feature_guard.cc:193] This TensorFlow binary is optimized with oneAPI Deep Neural Network Library (oneDNN) to use the following CPU instructions in performance-critical operations:  AVX2 AVX512F AVX512_VNNI FMA\n",
      "To enable them in other operations, rebuild TensorFlow with the appropriate compiler flags.\n",
      "2023-10-22 16:04:34.250792: I tensorflow/core/common_runtime/gpu/gpu_device.cc:1532] Created device /job:localhost/replica:0/task:0/device:GPU:0 with 22128 MB memory:  -> device: 0, name: NVIDIA GeForce RTX 4090, pci bus id: 0000:32:00.0, compute capability: 8.9\n"
     ]
    }
   ],
   "source": [
    "model = load_model(os.path.join(HOST_path, \"IDB_drilling_monitoring/outputs/outputs_\"+DATA+\"/best_model.hdf5\"))"
   ]
  },
  {
   "cell_type": "markdown",
   "metadata": {},
   "source": [
    "#### Show and Save"
   ]
  },
  {
   "cell_type": "code",
   "execution_count": 9,
   "metadata": {},
   "outputs": [],
   "source": [
    "hist = np.load((os.path.join(HOST_path, \"IDB_drilling_monitoring/outputs/outputs_\"+DATA+\"/history.npy\")), allow_pickle=True).item()"
   ]
  },
  {
   "cell_type": "code",
   "execution_count": 10,
   "metadata": {},
   "outputs": [
    {
     "data": {
      "image/png": "[encoded data removed]",
      "text/plain": [
       "<Figure size 432x288 with 1 Axes>"
      ]
     },
     "metadata": {
      "needs_background": "light"
     },
     "output_type": "display_data"
    }
   ],
   "source": [
    "plt.plot(hist['loss'])\n",
    "plt.plot(hist['val_loss'])\n",
    "plt.title('Model Loss')\n",
    "plt.ylabel('Loss')\n",
    "plt.xlabel('Epoch')\n",
    "plt.legend(['Train set', 'Test set'], loc='upper right')\n",
    "plt.savefig(os.path.join(SAVE_path, \"loss1.png\"), dpi=300, bbox_inches='tight', transparent=True)\n",
    "plt.show()"
   ]
  },
  {
   "cell_type": "code",
   "execution_count": null,
   "metadata": {},
   "outputs": [],
   "source": [
    "plt.plot(hist['loss'])\n",
    "plt.plot(hist['val_loss'])\n",
    "plt.title('Model Loss')\n",
    "plt.ylabel('Loss')\n",
    "plt.xlabel('Epoch')\n",
    "# plt.legend(['Train set', 'Test set'], loc='upper right')\n",
    "plt.savefig(os.path.join(SAVE_path, \"loss2.png\"), dpi=300, bbox_inches='tight', transparent=True)\n",
    "plt.show()"
   ]
  }
 ],
 "metadata": {
  "accelerator": "GPU",
  "colab": {
   "gpuType": "T4",
   "provenance": []
  },
  "kernelspec": {
   "display_name": "Python 3 (ipykernel)",
   "language": "python",
   "name": "python3"
  },
  "language_info": {
   "codemirror_mode": {
    "name": "ipython",
    "version": 3
   },
   "file_extension": ".py",
   "mimetype": "text/x-python",
   "name": "python",
   "nbconvert_exporter": "python",
   "pygments_lexer": "ipython3",
   "version": "3.8.10"
  }
 },
 "nbformat": 4,
 "nbformat_minor": 4
}
