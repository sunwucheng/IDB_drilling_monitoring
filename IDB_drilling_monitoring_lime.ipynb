{
 "cells": [
  {
   "cell_type": "markdown",
   "metadata": {
    "id": "mA_-eAkuEnLC"
   },
   "source": [
    "# IDB_drilling_monitoring_lime"
   ]
  },
  {
   "cell_type": "markdown",
   "metadata": {
    "id": "G6Dqfh0oC9d7"
   },
   "source": [
    "## Import packages"
   ]
  },
  {
   "cell_type": "code",
   "execution_count": 1,
   "metadata": {
    "id": "8KJudV78mY5m",
    "scrolled": true
   },
   "outputs": [
    {
     "name": "stderr",
     "output_type": "stream",
     "text": [
      "2023-10-24 14:31:36.617952: I tensorflow/core/util/util.cc:169] oneDNN custom operations are on. You may see slightly different numerical results due to floating-point round-off errors from different computation orders. To turn them off, set the environment variable `TF_ENABLE_ONEDNN_OPTS=0`.\n"
     ]
    },
    {
     "name": "stdout",
     "output_type": "stream",
     "text": [
      "Tue Oct 24 14:31:38 2023       \n",
      "+-----------------------------------------------------------------------------+\n",
      "| NVIDIA-SMI 525.105.17   Driver Version: 525.105.17   CUDA Version: 12.0     |\n",
      "|-------------------------------+----------------------+----------------------+\n",
      "| GPU  Name        Persistence-M| Bus-Id        Disp.A | Volatile Uncorr. ECC |\n",
      "| Fan  Temp  Perf  Pwr:Usage/Cap|         Memory-Usage | GPU-Util  Compute M. |\n",
      "|                               |                      |               MIG M. |\n",
      "|===============================+======================+======================|\n",
      "|   0  NVIDIA GeForce ...  On   | 00000000:18:00.0 Off |                  Off |\n",
      "| 30%   27C    P8    17W / 450W |      2MiB / 24564MiB |      0%      Default |\n",
      "|                               |                      |                  N/A |\n",
      "+-------------------------------+----------------------+----------------------+\n",
      "                                                                               \n",
      "+-----------------------------------------------------------------------------+\n",
      "| Processes:                                                                  |\n",
      "|  GPU   GI   CI        PID   Type   Process name                  GPU Memory |\n",
      "|        ID   ID                                                   Usage      |\n",
      "|=============================================================================|\n",
      "|  No running processes found                                                 |\n",
      "+-----------------------------------------------------------------------------+\n"
     ]
    }
   ],
   "source": [
    "import gc\n",
    "import IPython\n",
    "import librosa\n",
    "import lime\n",
    "import matplotlib.pyplot as plt\n",
    "import numpy as np\n",
    "import os\n",
    "import pandas as pd\n",
    "import random\n",
    "import scipy.io as scio\n",
    "import shap\n",
    "import soundfile\n",
    "import time\n",
    "from keras.layers import Activation, BatchNormalization, Concatenate, Conv1D, Conv2D, Dense, Dropout, Flatten\n",
    "from keras.layers import GlobalAveragePooling1D, GlobalAveragePooling2D, Input, MaxPooling1D, MaxPooling2D\n",
    "from keras.models import load_model, Model, Sequential\n",
    "from keras.utils import to_categorical\n",
    "from pyts.image import RecurrencePlot, MarkovTransitionField, GramianAngularField\n",
    "from sklearn.metrics import confusion_matrix, mean_squared_error, mean_absolute_error, r2_score\n",
    "from sklearn.model_selection import train_test_split\n",
    "from tensorflow import keras\n",
    "from tqdm import tqdm\n",
    "\n",
    "!nvidia-smi\n",
    "\n",
    "HOST_path = \"/root/autodl-tmp\"\n",
    "SETS_path = os.path.join(HOST_path, \"IDB_drilling_monitoring/datasets\")\n",
    "SAVE_path = os.path.join(HOST_path, \"IDB_drilling_monitoring/lime\")\n",
    "\n",
    "if not os.path.exists(SAVE_path):\n",
    "    os.makedirs(SAVE_path)"
   ]
  },
  {
   "cell_type": "markdown",
   "metadata": {
    "id": "pAQJZnnvpeT0"
   },
   "source": [
    "## Import datasets"
   ]
  },
  {
   "cell_type": "code",
   "execution_count": 2,
   "metadata": {},
   "outputs": [
    {
     "name": "stdout",
     "output_type": "stream",
     "text": [
      "(35524, 12000)\n",
      "(35524, 12000, 1)\n",
      "(35524, 7)\n",
      "(35524, 7)\n",
      "(35524, 6)\n",
      "(35524,)\n",
      "(35524,)\n",
      "(35524,)\n",
      "(35524,)\n",
      "(35524,)\n",
      "(35524,)\n",
      "(35524,)\n"
     ]
    }
   ],
   "source": [
    "X_set = np.load(os.path.join(SETS_path, \"X_set.npy\"))\n",
    "X_set_cnn = np.load(os.path.join(SETS_path, \"X_set_cnn.npy\"))\n",
    "Y_set = np.load(os.path.join(SETS_path, \"Y_set.npy\"))\n",
    "\n",
    "ALL7 = np.load(os.path.join(SETS_path, \"ALL7.npy\"))\n",
    "ALL6 = np.load(os.path.join(SETS_path, \"ALL6.npy\"))\n",
    "HEIGHT = np.load(os.path.join(SETS_path, \"HEIGHT.npy\"))\n",
    "RPM = np.load(os.path.join(SETS_path, \"RPM.npy\"))\n",
    "TORQUE = np.load(os.path.join(SETS_path, \"TORQUE.npy\"))\n",
    "PUMPR = np.load(os.path.join(SETS_path, \"PUMPR.npy\"))\n",
    "PUMPP = np.load(os.path.join(SETS_path, \"PUMPP.npy\"))\n",
    "ROP = np.load(os.path.join(SETS_path, \"ROP.npy\"))\n",
    "WOB = np.load(os.path.join(SETS_path, \"WOB.npy\"))\n",
    "\n",
    "print(X_set.shape)\n",
    "print(X_set_cnn.shape)\n",
    "print(Y_set.shape)\n",
    "\n",
    "print(ALL7.shape)\n",
    "print(ALL6.shape)\n",
    "print(HEIGHT.shape)\n",
    "print(RPM.shape)\n",
    "print(TORQUE.shape)\n",
    "print(PUMPR.shape)\n",
    "print(PUMPP.shape)\n",
    "print(ROP.shape)\n",
    "print(WOB.shape)"
   ]
  },
  {
   "cell_type": "code",
   "execution_count": 3,
   "metadata": {},
   "outputs": [
    {
     "data": {
      "image/png": "[encoded data removed]",
      "text/plain": [
       "<Figure size 432x288 with 1 Axes>"
      ]
     },
     "metadata": {
      "needs_background": "light"
     },
     "output_type": "display_data"
    }
   ],
   "source": [
    "def distributionOf(arr):\n",
    "    Freq = np.sum(arr, axis=0)\n",
    "    plt.bar(np.arange(arr.shape[1]), Freq)\n",
    "    plt.show()\n",
    "\n",
    "distributionOf(X_set)"
   ]
  },
  {
   "cell_type": "code",
   "execution_count": 4,
   "metadata": {},
   "outputs": [
    {
     "name": "stdout",
     "output_type": "stream",
     "text": [
      "(35524, 12000)\n",
      "[[ 3.69545312 10.0336584   5.00140735 ...  3.62882899  1.9633871\n",
      "   1.55529765]\n",
      " [ 4.46275059  9.47017867 10.35649324 ...  1.92746959  1.61736184\n",
      "   3.70639905]\n",
      " [ 3.81786369 11.04322585 13.54993743 ...  2.82333739  1.30031815\n",
      "   3.25870772]\n",
      " ...\n",
      " [10.7989744  12.70249237 13.64979581 ...  0.12924805  0.30560761\n",
      "   0.07823928]\n",
      " [ 5.84249246  3.35302212  6.99121709 ...  0.23678803  0.12476213\n",
      "   0.14811056]\n",
      " [ 0.85414921  3.55850481  2.23368328 ...  0.34487924  0.45839801\n",
      "   0.18501066]]\n"
     ]
    }
   ],
   "source": [
    "print(X_set.shape)\n",
    "print(X_set)"
   ]
  },
  {
   "cell_type": "code",
   "execution_count": 5,
   "metadata": {},
   "outputs": [
    {
     "name": "stdout",
     "output_type": "stream",
     "text": [
      "(35524, 6000)\n",
      "[[ 3.69545312 10.0336584   5.00140735 ... 14.44039315  6.0906192\n",
      "  23.99444889]\n",
      " [ 4.46275059  9.47017867 10.35649324 ... 26.00957373  7.68744846\n",
      "  12.18294073]\n",
      " [ 3.81786369 11.04322585 13.54993743 ... 24.95938579 11.70737171\n",
      "   9.19468604]\n",
      " ...\n",
      " [10.7989744  12.70249237 13.64979581 ...  4.13771624  5.77013574\n",
      "   2.62698451]\n",
      " [ 5.84249246  3.35302212  6.99121709 ...  2.68119829  2.76544012\n",
      "   1.85993352]\n",
      " [ 0.85414921  3.55850481  2.23368328 ...  5.56349666  7.84796724\n",
      "   6.69374229]]\n"
     ]
    }
   ],
   "source": [
    "X_set = X_set[:,0:6000]\n",
    "print(X_set.shape)\n",
    "print(X_set)"
   ]
  },
  {
   "cell_type": "markdown",
   "metadata": {},
   "source": [
    "### Group"
   ]
  },
  {
   "cell_type": "code",
   "execution_count": 6,
   "metadata": {},
   "outputs": [],
   "source": [
    "DATA = \"RPM\""
   ]
  },
  {
   "cell_type": "code",
   "execution_count": 7,
   "metadata": {},
   "outputs": [],
   "source": [
    "# DATA_path = os.path.join(HOST_path, \"IDB_drilling_monitoring/evaluation/\"+DATA)\n",
    "\n",
    "# if not os.path.exists(DATA_path):\n",
    "#     os.makedirs(DATA_path)\n",
    "    \n",
    "# model = load_model(os.path.join(HOST_path, \"IDB_drilling_monitoring/outputs_\"+DATA+\"/best_model.hdf5\"))"
   ]
  },
  {
   "cell_type": "code",
   "execution_count": 8,
   "metadata": {},
   "outputs": [
    {
     "name": "stdout",
     "output_type": "stream",
     "text": [
      "(35524, 6000)\n",
      "(35524,)\n",
      "1\n"
     ]
    }
   ],
   "source": [
    "INPUT = X_set\n",
    "OUTPUT = eval(DATA)\n",
    "\n",
    "if OUTPUT.ndim == 1:\n",
    "    num_targets = 1\n",
    "else:\n",
    "    num_targets = OUTPUT.shape[1]\n",
    "\n",
    "print(INPUT.shape)\n",
    "print(OUTPUT.shape)\n",
    "print(num_targets)"
   ]
  },
  {
   "cell_type": "markdown",
   "metadata": {},
   "source": [
    "### DATA"
   ]
  },
  {
   "cell_type": "code",
   "execution_count": 9,
   "metadata": {},
   "outputs": [],
   "source": [
    "# X = pd.DataFrame(data=INPUT, columns=[f\"{i}Hz\" for i in range(1, INPUT.shape[1]+1)])\n",
    "# y = OUTPUT\n",
    "\n",
    "# print(type(X), X.shape)\n",
    "# print(type(y), y.shape)"
   ]
  },
  {
   "cell_type": "code",
   "execution_count": 10,
   "metadata": {},
   "outputs": [],
   "source": [
    "# print(X)\n",
    "# print(y)"
   ]
  },
  {
   "cell_type": "code",
   "execution_count": 15,
   "metadata": {},
   "outputs": [
    {
     "name": "stdout",
     "output_type": "stream",
     "text": [
      "(28419, 6000)\n",
      "(28419,)\n",
      "(7105, 6000)\n",
      "(7105,)\n"
     ]
    }
   ],
   "source": [
    "X_train, X_test, Y_train, Y_test = train_test_split(INPUT, OUTPUT, test_size=0.2, random_state=42, shuffle=True)\n",
    "\n",
    "print(X_train.shape)\n",
    "print(Y_train.shape)\n",
    "print(X_test.shape)\n",
    "print(Y_test.shape)"
   ]
  },
  {
   "cell_type": "markdown",
   "metadata": {
    "tags": []
   },
   "source": [
    "### Model"
   ]
  },
  {
   "cell_type": "markdown",
   "metadata": {
    "tags": []
   },
   "source": [
    "#### Linear Regression"
   ]
  },
  {
   "cell_type": "code",
   "execution_count": 16,
   "metadata": {},
   "outputs": [
    {
     "name": "stdout",
     "output_type": "stream",
     "text": [
      "Test R^2 Score  :  0.9432630304260193\n",
      "Train R^2 Score :  0.9670299198627075\n"
     ]
    }
   ],
   "source": [
    "from sklearn.linear_model import LinearRegression\n",
    "\n",
    "lr = LinearRegression()\n",
    "lr.fit(X_train, Y_train)\n",
    "\n",
    "print(\"Test R^2 Score  : \", lr.score(X_test, Y_test))\n",
    "print(\"Train R^2 Score : \", lr.score(X_train, Y_train))"
   ]
  },
  {
   "cell_type": "code",
   "execution_count": 20,
   "metadata": {},
   "outputs": [
    {
     "name": "stdout",
     "output_type": "stream",
     "text": [
      "['1Hz', '2Hz', '3Hz', '4Hz', '5Hz', '6Hz', '7Hz', '8Hz', '9Hz', '10Hz']\n",
      "['5991Hz', '5992Hz', '5993Hz', '5994Hz', '5995Hz', '5996Hz', '5997Hz', '5998Hz', '5999Hz', '6000Hz']\n"
     ]
    }
   ],
   "source": [
    "feature_names = [f\"{i}Hz\" for i in range(1, INPUT.shape[1]+1)]\n",
    "print(feature_names[:10])\n",
    "print(feature_names[-10:])"
   ]
  },
  {
   "cell_type": "code",
   "execution_count": 21,
   "metadata": {},
   "outputs": [
    {
     "data": {
      "text/plain": [
       "<lime.lime_tabular.LimeTabularExplainer at 0x7f4f7ef28130>"
      ]
     },
     "execution_count": 21,
     "metadata": {},
     "output_type": "execute_result"
    }
   ],
   "source": [
    "from lime import lime_tabular\n",
    "\n",
    "explainer = lime_tabular.LimeTabularExplainer(X_train, mode=\"regression\", feature_names= feature_names)\n",
    "explainer"
   ]
  },
  {
   "cell_type": "code",
   "execution_count": 22,
   "metadata": {},
   "outputs": [
    {
     "name": "stdout",
     "output_type": "stream",
     "text": [
      "Prediction :  [402.56050384]\n",
      "Actual :      403.0\n"
     ]
    }
   ],
   "source": [
    "idx = random.randint(1, len(X_test))\n",
    "\n",
    "print(\"Prediction : \", lr.predict(X_test[idx].reshape(1,-1)))\n",
    "print(\"Actual :     \", Y_test[idx])"
   ]
  },
  {
   "cell_type": "code",
   "execution_count": 23,
   "metadata": {},
   "outputs": [
    {
     "data": {
      "text/plain": [
       "<lime.explanation.Explanation at 0x7f51bc4cfe50>"
      ]
     },
     "execution_count": 23,
     "metadata": {},
     "output_type": "execute_result"
    }
   ],
   "source": [
    "explanation = explainer.explain_instance(X_test[idx], lr.predict, num_features=len(feature_names))\n",
    "explanation"
   ]
  },
  {
   "cell_type": "code",
   "execution_count": null,
   "metadata": {},
   "outputs": [],
   "source": [
    "# explanation.show_in_notebook()"
   ]
  },
  {
   "cell_type": "code",
   "execution_count": null,
   "metadata": {},
   "outputs": [],
   "source": [
    "# with plt.style.context(\"ggplot\"):\n",
    "#     explanation.as_pyplot_figure()"
   ]
  },
  {
   "cell_type": "code",
   "execution_count": 27,
   "metadata": {},
   "outputs": [
    {
     "name": "stdout",
     "output_type": "stream",
     "text": [
      "Explanation Local Prediction  :  [402.44853375]\n",
      "Explanation Global Prediction :  402.5605038440573\n"
     ]
    }
   ],
   "source": [
    "print(\"Explanation Local Prediction  : \", explanation.local_pred)\n",
    "print(\"Explanation Global Prediction : \", explanation.predicted_value)"
   ]
  },
  {
   "cell_type": "code",
   "execution_count": null,
   "metadata": {},
   "outputs": [],
   "source": []
  },
  {
   "cell_type": "markdown",
   "metadata": {
    "tags": []
   },
   "source": [
    "#### Decision Tree"
   ]
  },
  {
   "cell_type": "code",
   "execution_count": null,
   "metadata": {},
   "outputs": [],
   "source": [
    "from sklearn import tree"
   ]
  },
  {
   "cell_type": "code",
   "execution_count": null,
   "metadata": {},
   "outputs": [],
   "source": [
    "dtree = tree.DecisionTreeRegressor(min_samples_split=20)"
   ]
  },
  {
   "cell_type": "code",
   "execution_count": null,
   "metadata": {},
   "outputs": [],
   "source": [
    "dtree.fit(X_train, y_train)"
   ]
  },
  {
   "cell_type": "code",
   "execution_count": null,
   "metadata": {},
   "outputs": [],
   "source": [
    "print_accuracy(dtree.predict)"
   ]
  },
  {
   "cell_type": "code",
   "execution_count": null,
   "metadata": {},
   "outputs": [],
   "source": [
    "# explain all the predictions in the test set\n",
    "ex = shap.TreeExplainer(dtree)"
   ]
  },
  {
   "cell_type": "code",
   "execution_count": null,
   "metadata": {},
   "outputs": [],
   "source": [
    "shap_values = ex.shap_values(X_test)"
   ]
  },
  {
   "cell_type": "code",
   "execution_count": null,
   "metadata": {},
   "outputs": [],
   "source": [
    "shap.summary_plot(shap_values, X_test)"
   ]
  },
  {
   "cell_type": "code",
   "execution_count": null,
   "metadata": {},
   "outputs": [],
   "source": [
    "shap.dependence_plot(\"bmi\", shap_values, X_test)"
   ]
  },
  {
   "cell_type": "code",
   "execution_count": null,
   "metadata": {},
   "outputs": [],
   "source": [
    "shap.force_plot(ex.expected_value, shap_values, X_test)"
   ]
  },
  {
   "cell_type": "markdown",
   "metadata": {
    "tags": []
   },
   "source": [
    "#### Random Forest"
   ]
  },
  {
   "cell_type": "code",
   "execution_count": null,
   "metadata": {},
   "outputs": [],
   "source": [
    "from sklearn.ensemble import RandomForestRegressor"
   ]
  },
  {
   "cell_type": "code",
   "execution_count": null,
   "metadata": {},
   "outputs": [],
   "source": [
    "rforest = RandomForestRegressor(n_estimators=100, max_depth=5, min_samples_split=2, random_state=42)"
   ]
  },
  {
   "cell_type": "code",
   "execution_count": null,
   "metadata": {},
   "outputs": [],
   "source": [
    "rforest.fit(X_train, y_train)"
   ]
  },
  {
   "cell_type": "code",
   "execution_count": null,
   "metadata": {},
   "outputs": [],
   "source": [
    "print_accuracy(rforest.predict)"
   ]
  },
  {
   "cell_type": "code",
   "execution_count": null,
   "metadata": {},
   "outputs": [],
   "source": [
    "# explain all the predictions in the test set\n",
    "explainer = shap.TreeExplainer(rforest)"
   ]
  },
  {
   "cell_type": "code",
   "execution_count": null,
   "metadata": {},
   "outputs": [],
   "source": [
    "shap_values = explainer.shap_values(X_test)"
   ]
  },
  {
   "cell_type": "code",
   "execution_count": null,
   "metadata": {},
   "outputs": [],
   "source": [
    "shap.summary_plot(shap_values, X_test)"
   ]
  },
  {
   "cell_type": "code",
   "execution_count": null,
   "metadata": {},
   "outputs": [],
   "source": []
  }
 ],
 "metadata": {
  "accelerator": "GPU",
  "colab": {
   "gpuType": "T4",
   "provenance": []
  },
  "kernelspec": {
   "display_name": "Python 3 (ipykernel)",
   "language": "python",
   "name": "python3"
  },
  "language_info": {
   "codemirror_mode": {
    "name": "ipython",
    "version": 3
   },
   "file_extension": ".py",
   "mimetype": "text/x-python",
   "name": "python",
   "nbconvert_exporter": "python",
   "pygments_lexer": "ipython3",
   "version": "3.8.10"
  }
 },
 "nbformat": 4,
 "nbformat_minor": 4
}
